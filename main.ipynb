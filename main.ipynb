{
 "cells": [
  {
   "cell_type": "code",
   "execution_count": 31,
   "metadata": {},
   "outputs": [
    {
     "name": "stderr",
     "output_type": "stream",
     "text": [
      "/var/folders/bm/mmvwf97s6zz3j12mqw_jdsxc0000gn/T/ipykernel_24162/2956558920.py:4: DtypeWarning: Columns (13,14,15,16,17,18,19,20,21,22,23) have mixed types. Specify dtype option on import or set low_memory=False.\n",
      "  df = pd.read_csv(\"/Users/tringuyen1803/Desktop/crossroads-classic-analytics-challenge-24/DIWBB_Training.csv\")\n"
     ]
    },
    {
     "data": {
      "text/html": [
       "<div>\n",
       "<style scoped>\n",
       "    .dataframe tbody tr th:only-of-type {\n",
       "        vertical-align: middle;\n",
       "    }\n",
       "\n",
       "    .dataframe tbody tr th {\n",
       "        vertical-align: top;\n",
       "    }\n",
       "\n",
       "    .dataframe thead th {\n",
       "        text-align: right;\n",
       "    }\n",
       "</style>\n",
       "<table border=\"1\" class=\"dataframe\">\n",
       "  <thead>\n",
       "    <tr style=\"text-align: right;\">\n",
       "      <th></th>\n",
       "      <th>RecordID</th>\n",
       "      <th>ChampionshipYear</th>\n",
       "      <th>CustomerID</th>\n",
       "      <th>CustomerCity</th>\n",
       "      <th>CustomerState</th>\n",
       "      <th>CustomerZipCode</th>\n",
       "      <th>CustomerInstitutionAffinity</th>\n",
       "      <th>IsCustomerInNCAAMembership</th>\n",
       "      <th>HasCustomerClickedOrOpenedEmailsSixMonthsPrior</th>\n",
       "      <th>CustomerFirstWBBActionDate</th>\n",
       "      <th>CustomerFirstWBBPurchaseDate</th>\n",
       "      <th>CustomerLastWBBActionDate</th>\n",
       "      <th>CustomerLastWBBPurchaseDate</th>\n",
       "      <th>EventRoundName</th>\n",
       "      <th>IsEventFinalSite</th>\n",
       "      <th>EventSession</th>\n",
       "      <th>EventBeginDate</th>\n",
       "      <th>EventEndDate</th>\n",
       "      <th>HostingInstitution</th>\n",
       "      <th>FacilityName</th>\n",
       "      <th>FacilityDescription</th>\n",
       "      <th>FacilityCity</th>\n",
       "      <th>FacilityState</th>\n",
       "      <th>FacilityZipCode</th>\n",
       "      <th>ActivityType</th>\n",
       "    </tr>\n",
       "  </thead>\n",
       "  <tbody>\n",
       "    <tr>\n",
       "      <th>0</th>\n",
       "      <td>4</td>\n",
       "      <td>2022</td>\n",
       "      <td>757758</td>\n",
       "      <td>Huntsville</td>\n",
       "      <td>TX</td>\n",
       "      <td>77340</td>\n",
       "      <td>(UNK)</td>\n",
       "      <td>No</td>\n",
       "      <td>(N/A)</td>\n",
       "      <td>10/28/13</td>\n",
       "      <td>10/28/13</td>\n",
       "      <td>10/28/13</td>\n",
       "      <td>10/28/13</td>\n",
       "      <td>NaN</td>\n",
       "      <td>NaN</td>\n",
       "      <td>NaN</td>\n",
       "      <td>NaN</td>\n",
       "      <td>NaN</td>\n",
       "      <td>NaN</td>\n",
       "      <td>NaN</td>\n",
       "      <td>NaN</td>\n",
       "      <td>NaN</td>\n",
       "      <td>NaN</td>\n",
       "      <td>NaN</td>\n",
       "      <td>No Activity</td>\n",
       "    </tr>\n",
       "    <tr>\n",
       "      <th>1</th>\n",
       "      <td>14</td>\n",
       "      <td>2022</td>\n",
       "      <td>574752</td>\n",
       "      <td>Salem</td>\n",
       "      <td>OR</td>\n",
       "      <td>97304</td>\n",
       "      <td>(UNK)</td>\n",
       "      <td>No</td>\n",
       "      <td>Yes</td>\n",
       "      <td>10/12/19</td>\n",
       "      <td>NaN</td>\n",
       "      <td>10/12/19</td>\n",
       "      <td>NaN</td>\n",
       "      <td>NaN</td>\n",
       "      <td>NaN</td>\n",
       "      <td>NaN</td>\n",
       "      <td>NaN</td>\n",
       "      <td>NaN</td>\n",
       "      <td>NaN</td>\n",
       "      <td>NaN</td>\n",
       "      <td>NaN</td>\n",
       "      <td>NaN</td>\n",
       "      <td>NaN</td>\n",
       "      <td>NaN</td>\n",
       "      <td>No Activity</td>\n",
       "    </tr>\n",
       "    <tr>\n",
       "      <th>2</th>\n",
       "      <td>20</td>\n",
       "      <td>2022</td>\n",
       "      <td>741837</td>\n",
       "      <td>(UNK)</td>\n",
       "      <td>UNK</td>\n",
       "      <td>(UNK)</td>\n",
       "      <td>(UNK)</td>\n",
       "      <td>No</td>\n",
       "      <td>Yes</td>\n",
       "      <td>10/28/13</td>\n",
       "      <td>10/28/13</td>\n",
       "      <td>10/28/13</td>\n",
       "      <td>10/28/13</td>\n",
       "      <td>NaN</td>\n",
       "      <td>NaN</td>\n",
       "      <td>NaN</td>\n",
       "      <td>NaN</td>\n",
       "      <td>NaN</td>\n",
       "      <td>NaN</td>\n",
       "      <td>NaN</td>\n",
       "      <td>NaN</td>\n",
       "      <td>NaN</td>\n",
       "      <td>NaN</td>\n",
       "      <td>NaN</td>\n",
       "      <td>No Activity</td>\n",
       "    </tr>\n",
       "    <tr>\n",
       "      <th>3</th>\n",
       "      <td>21</td>\n",
       "      <td>2022</td>\n",
       "      <td>237618</td>\n",
       "      <td>(UNK)</td>\n",
       "      <td>UNK</td>\n",
       "      <td>(UNK)</td>\n",
       "      <td>(UNK)</td>\n",
       "      <td>No</td>\n",
       "      <td>Yes</td>\n",
       "      <td>10/28/13</td>\n",
       "      <td>10/28/13</td>\n",
       "      <td>10/28/13</td>\n",
       "      <td>10/28/13</td>\n",
       "      <td>NaN</td>\n",
       "      <td>NaN</td>\n",
       "      <td>NaN</td>\n",
       "      <td>NaN</td>\n",
       "      <td>NaN</td>\n",
       "      <td>NaN</td>\n",
       "      <td>NaN</td>\n",
       "      <td>NaN</td>\n",
       "      <td>NaN</td>\n",
       "      <td>NaN</td>\n",
       "      <td>NaN</td>\n",
       "      <td>No Activity</td>\n",
       "    </tr>\n",
       "    <tr>\n",
       "      <th>4</th>\n",
       "      <td>23</td>\n",
       "      <td>2022</td>\n",
       "      <td>799761</td>\n",
       "      <td>(UNK)</td>\n",
       "      <td>UNK</td>\n",
       "      <td>(UNK)</td>\n",
       "      <td>(UNK)</td>\n",
       "      <td>No</td>\n",
       "      <td>(N/A)</td>\n",
       "      <td>3/20/18</td>\n",
       "      <td>3/20/18</td>\n",
       "      <td>3/20/18</td>\n",
       "      <td>3/20/18</td>\n",
       "      <td>NaN</td>\n",
       "      <td>NaN</td>\n",
       "      <td>NaN</td>\n",
       "      <td>NaN</td>\n",
       "      <td>NaN</td>\n",
       "      <td>NaN</td>\n",
       "      <td>NaN</td>\n",
       "      <td>NaN</td>\n",
       "      <td>NaN</td>\n",
       "      <td>NaN</td>\n",
       "      <td>NaN</td>\n",
       "      <td>No Activity</td>\n",
       "    </tr>\n",
       "    <tr>\n",
       "      <th>5</th>\n",
       "      <td>27</td>\n",
       "      <td>2022</td>\n",
       "      <td>851342</td>\n",
       "      <td>(UNK)</td>\n",
       "      <td>UNK</td>\n",
       "      <td>(UNK)</td>\n",
       "      <td>(UNK)</td>\n",
       "      <td>No</td>\n",
       "      <td>No</td>\n",
       "      <td>10/28/13</td>\n",
       "      <td>10/28/13</td>\n",
       "      <td>10/28/13</td>\n",
       "      <td>10/28/13</td>\n",
       "      <td>NaN</td>\n",
       "      <td>NaN</td>\n",
       "      <td>NaN</td>\n",
       "      <td>NaN</td>\n",
       "      <td>NaN</td>\n",
       "      <td>NaN</td>\n",
       "      <td>NaN</td>\n",
       "      <td>NaN</td>\n",
       "      <td>NaN</td>\n",
       "      <td>NaN</td>\n",
       "      <td>NaN</td>\n",
       "      <td>No Activity</td>\n",
       "    </tr>\n",
       "    <tr>\n",
       "      <th>6</th>\n",
       "      <td>30</td>\n",
       "      <td>2022</td>\n",
       "      <td>824503</td>\n",
       "      <td>Cary</td>\n",
       "      <td>NC</td>\n",
       "      <td>27513</td>\n",
       "      <td>(UNK)</td>\n",
       "      <td>No</td>\n",
       "      <td>Yes</td>\n",
       "      <td>3/19/22</td>\n",
       "      <td>NaN</td>\n",
       "      <td>3/19/22</td>\n",
       "      <td>NaN</td>\n",
       "      <td>NaN</td>\n",
       "      <td>NaN</td>\n",
       "      <td>NaN</td>\n",
       "      <td>NaN</td>\n",
       "      <td>NaN</td>\n",
       "      <td>NaN</td>\n",
       "      <td>NaN</td>\n",
       "      <td>NaN</td>\n",
       "      <td>NaN</td>\n",
       "      <td>NaN</td>\n",
       "      <td>NaN</td>\n",
       "      <td>No Activity</td>\n",
       "    </tr>\n",
       "    <tr>\n",
       "      <th>7</th>\n",
       "      <td>44</td>\n",
       "      <td>2022</td>\n",
       "      <td>555935</td>\n",
       "      <td>(UNK)</td>\n",
       "      <td>UNK</td>\n",
       "      <td>(UNK)</td>\n",
       "      <td>(UNK)</td>\n",
       "      <td>No</td>\n",
       "      <td>(N/A)</td>\n",
       "      <td>10/28/13</td>\n",
       "      <td>10/28/13</td>\n",
       "      <td>10/28/13</td>\n",
       "      <td>10/28/13</td>\n",
       "      <td>NaN</td>\n",
       "      <td>NaN</td>\n",
       "      <td>NaN</td>\n",
       "      <td>NaN</td>\n",
       "      <td>NaN</td>\n",
       "      <td>NaN</td>\n",
       "      <td>NaN</td>\n",
       "      <td>NaN</td>\n",
       "      <td>NaN</td>\n",
       "      <td>NaN</td>\n",
       "      <td>NaN</td>\n",
       "      <td>No Activity</td>\n",
       "    </tr>\n",
       "    <tr>\n",
       "      <th>8</th>\n",
       "      <td>54</td>\n",
       "      <td>2022</td>\n",
       "      <td>547850</td>\n",
       "      <td>(UNK)</td>\n",
       "      <td>UNK</td>\n",
       "      <td>(UNK)</td>\n",
       "      <td>(UNK)</td>\n",
       "      <td>No</td>\n",
       "      <td>(N/A)</td>\n",
       "      <td>10/28/13</td>\n",
       "      <td>10/28/13</td>\n",
       "      <td>10/28/13</td>\n",
       "      <td>10/28/13</td>\n",
       "      <td>NaN</td>\n",
       "      <td>NaN</td>\n",
       "      <td>NaN</td>\n",
       "      <td>NaN</td>\n",
       "      <td>NaN</td>\n",
       "      <td>NaN</td>\n",
       "      <td>NaN</td>\n",
       "      <td>NaN</td>\n",
       "      <td>NaN</td>\n",
       "      <td>NaN</td>\n",
       "      <td>NaN</td>\n",
       "      <td>No Activity</td>\n",
       "    </tr>\n",
       "    <tr>\n",
       "      <th>9</th>\n",
       "      <td>65</td>\n",
       "      <td>2022</td>\n",
       "      <td>664420</td>\n",
       "      <td>Jasper</td>\n",
       "      <td>IN</td>\n",
       "      <td>47546</td>\n",
       "      <td>(UNK)</td>\n",
       "      <td>No</td>\n",
       "      <td>(N/A)</td>\n",
       "      <td>4/3/16</td>\n",
       "      <td>4/3/16</td>\n",
       "      <td>4/3/16</td>\n",
       "      <td>4/3/16</td>\n",
       "      <td>NaN</td>\n",
       "      <td>NaN</td>\n",
       "      <td>NaN</td>\n",
       "      <td>NaN</td>\n",
       "      <td>NaN</td>\n",
       "      <td>NaN</td>\n",
       "      <td>NaN</td>\n",
       "      <td>NaN</td>\n",
       "      <td>NaN</td>\n",
       "      <td>NaN</td>\n",
       "      <td>NaN</td>\n",
       "      <td>No Activity</td>\n",
       "    </tr>\n",
       "  </tbody>\n",
       "</table>\n",
       "</div>"
      ],
      "text/plain": [
       "   RecordID  ChampionshipYear  CustomerID CustomerCity CustomerState  \\\n",
       "0         4              2022      757758   Huntsville            TX   \n",
       "1        14              2022      574752        Salem            OR   \n",
       "2        20              2022      741837        (UNK)           UNK   \n",
       "3        21              2022      237618        (UNK)           UNK   \n",
       "4        23              2022      799761        (UNK)           UNK   \n",
       "5        27              2022      851342        (UNK)           UNK   \n",
       "6        30              2022      824503         Cary            NC   \n",
       "7        44              2022      555935        (UNK)           UNK   \n",
       "8        54              2022      547850        (UNK)           UNK   \n",
       "9        65              2022      664420       Jasper            IN   \n",
       "\n",
       "  CustomerZipCode CustomerInstitutionAffinity IsCustomerInNCAAMembership  \\\n",
       "0           77340                       (UNK)                         No   \n",
       "1           97304                       (UNK)                         No   \n",
       "2           (UNK)                       (UNK)                         No   \n",
       "3           (UNK)                       (UNK)                         No   \n",
       "4           (UNK)                       (UNK)                         No   \n",
       "5           (UNK)                       (UNK)                         No   \n",
       "6           27513                       (UNK)                         No   \n",
       "7           (UNK)                       (UNK)                         No   \n",
       "8           (UNK)                       (UNK)                         No   \n",
       "9           47546                       (UNK)                         No   \n",
       "\n",
       "  HasCustomerClickedOrOpenedEmailsSixMonthsPrior CustomerFirstWBBActionDate  \\\n",
       "0                                          (N/A)                   10/28/13   \n",
       "1                                            Yes                   10/12/19   \n",
       "2                                            Yes                   10/28/13   \n",
       "3                                            Yes                   10/28/13   \n",
       "4                                          (N/A)                    3/20/18   \n",
       "5                                             No                   10/28/13   \n",
       "6                                            Yes                    3/19/22   \n",
       "7                                          (N/A)                   10/28/13   \n",
       "8                                          (N/A)                   10/28/13   \n",
       "9                                          (N/A)                     4/3/16   \n",
       "\n",
       "  CustomerFirstWBBPurchaseDate CustomerLastWBBActionDate  \\\n",
       "0                     10/28/13                  10/28/13   \n",
       "1                          NaN                  10/12/19   \n",
       "2                     10/28/13                  10/28/13   \n",
       "3                     10/28/13                  10/28/13   \n",
       "4                      3/20/18                   3/20/18   \n",
       "5                     10/28/13                  10/28/13   \n",
       "6                          NaN                   3/19/22   \n",
       "7                     10/28/13                  10/28/13   \n",
       "8                     10/28/13                  10/28/13   \n",
       "9                       4/3/16                    4/3/16   \n",
       "\n",
       "  CustomerLastWBBPurchaseDate EventRoundName IsEventFinalSite EventSession  \\\n",
       "0                    10/28/13            NaN              NaN          NaN   \n",
       "1                         NaN            NaN              NaN          NaN   \n",
       "2                    10/28/13            NaN              NaN          NaN   \n",
       "3                    10/28/13            NaN              NaN          NaN   \n",
       "4                     3/20/18            NaN              NaN          NaN   \n",
       "5                    10/28/13            NaN              NaN          NaN   \n",
       "6                         NaN            NaN              NaN          NaN   \n",
       "7                    10/28/13            NaN              NaN          NaN   \n",
       "8                    10/28/13            NaN              NaN          NaN   \n",
       "9                      4/3/16            NaN              NaN          NaN   \n",
       "\n",
       "  EventBeginDate EventEndDate HostingInstitution FacilityName  \\\n",
       "0            NaN          NaN                NaN          NaN   \n",
       "1            NaN          NaN                NaN          NaN   \n",
       "2            NaN          NaN                NaN          NaN   \n",
       "3            NaN          NaN                NaN          NaN   \n",
       "4            NaN          NaN                NaN          NaN   \n",
       "5            NaN          NaN                NaN          NaN   \n",
       "6            NaN          NaN                NaN          NaN   \n",
       "7            NaN          NaN                NaN          NaN   \n",
       "8            NaN          NaN                NaN          NaN   \n",
       "9            NaN          NaN                NaN          NaN   \n",
       "\n",
       "  FacilityDescription FacilityCity FacilityState FacilityZipCode ActivityType  \n",
       "0                 NaN          NaN           NaN             NaN  No Activity  \n",
       "1                 NaN          NaN           NaN             NaN  No Activity  \n",
       "2                 NaN          NaN           NaN             NaN  No Activity  \n",
       "3                 NaN          NaN           NaN             NaN  No Activity  \n",
       "4                 NaN          NaN           NaN             NaN  No Activity  \n",
       "5                 NaN          NaN           NaN             NaN  No Activity  \n",
       "6                 NaN          NaN           NaN             NaN  No Activity  \n",
       "7                 NaN          NaN           NaN             NaN  No Activity  \n",
       "8                 NaN          NaN           NaN             NaN  No Activity  \n",
       "9                 NaN          NaN           NaN             NaN  No Activity  "
      ]
     },
     "execution_count": 31,
     "metadata": {},
     "output_type": "execute_result"
    }
   ],
   "source": [
    "import pandas as pd\n",
    "pd.set_option('display.max_rows', 500)\n",
    "pd.set_option('display.max_columns', 500)\n",
    "df = pd.read_csv(\"/Users/tringuyen1803/Desktop/crossroads-classic-analytics-challenge-24/DIWBB_Training.csv\")\n",
    "df.head(10)"
   ]
  },
  {
   "cell_type": "code",
   "execution_count": 50,
   "metadata": {},
   "outputs": [],
   "source": [
    "# Drop RecordID, CustomerID, CustomerCity, CustomerState, CustomerZipCode, CustomerInstitutionAffinity\n",
    "# Categorical : IsCustomerInNCAAMembership, HasCustomerClickedOrOpenedEmailsSixMonthsPrior,\n",
    "# EventRoundName, IsEventFinalSite, EventSession\n",
    "# Convert to Time: CustomerFirstWBBActionDate, CustomerFirstWBBPurchaseDate, CustomerLastWBBActionDate, CustomerLastWBBPurchaseDate"
   ]
  },
  {
   "cell_type": "code",
   "execution_count": 49,
   "metadata": {},
   "outputs": [
    {
     "data": {
      "text/plain": [
       "FacilityZipCode\n",
       "98109    2365\n",
       "29601    2016\n",
       "75201    1956\n",
       "(UNK)    1951\n",
       "55403    1813\n",
       "47408    1015\n",
       "50011     769\n",
       "02048     622\n",
       "06259     601\n",
       "70803     515\n",
       "29201     496\n",
       "85721     441\n",
       "94305     393\n",
       "48104     309\n",
       "52242     309\n",
       "99201     294\n",
       "75205     273\n",
       "37996     272\n",
       "40202     262\n",
       "27607     250\n",
       "64106     220\n",
       "84112     197\n",
       "27403     186\n",
       "76706     169\n",
       "90095     148\n",
       "78701     106\n",
       "43210       7\n",
       "Name: count, dtype: int64"
      ]
     },
     "execution_count": 49,
     "metadata": {},
     "output_type": "execute_result"
    }
   ],
   "source": [
    "df.FacilityZipCode.value_counts()"
   ]
  },
  {
   "cell_type": "code",
   "execution_count": 48,
   "metadata": {},
   "outputs": [
    {
     "data": {
      "text/plain": [
       "FacilityCity\n",
       "Seattle           2365\n",
       "Dallas            2229\n",
       "Greenville        2016\n",
       "Minneapolis       1813\n",
       "(UNK)             1171\n",
       "Bloomington       1015\n",
       "Ames               769\n",
       "Mansfield          622\n",
       "Storrs             601\n",
       "Baton Rouge        515\n",
       "Columbia           496\n",
       "Tucson             441\n",
       "Stanford           393\n",
       "Notre Dame         383\n",
       "Iowa City          309\n",
       "Ann Arbor          309\n",
       "Spokane            294\n",
       "Knoxville          272\n",
       "Louisville         262\n",
       "Raleigh            250\n",
       "Kansas City        220\n",
       "Salt Lake City     197\n",
       "Greensboro         186\n",
       "Norman             179\n",
       "Waco               169\n",
       "Los Angeles        148\n",
       "Durham             129\n",
       "Austin             106\n",
       "Bridgeport          89\n",
       "Columbus             7\n",
       "Name: count, dtype: int64"
      ]
     },
     "execution_count": 48,
     "metadata": {},
     "output_type": "execute_result"
    }
   ],
   "source": [
    "df.FacilityCity.value_counts()"
   ]
  },
  {
   "cell_type": "code",
   "execution_count": 47,
   "metadata": {},
   "outputs": [
    {
     "data": {
      "text/plain": [
       "FacilityDescription\n",
       "Professional Sports Arena    9637\n",
       "College Sports Arena         7147\n",
       "(UNK)                        1171\n",
       "Name: count, dtype: int64"
      ]
     },
     "execution_count": 47,
     "metadata": {},
     "output_type": "execute_result"
    }
   ],
   "source": [
    "df.FacilityDescription.value_counts()"
   ]
  },
  {
   "cell_type": "code",
   "execution_count": 46,
   "metadata": {},
   "outputs": [
    {
     "data": {
      "text/plain": [
       "FacilityName\n",
       "Climate Pledge Arena                                   2365\n",
       "Bon Secours Wellness Arena                             2016\n",
       "American Airlines Center                               1956\n",
       "Target Center                                          1813\n",
       "(UNK)                                                  1171\n",
       "Simon Skjodt Assembly Hall                             1015\n",
       "Hilton Coliseum                                         769\n",
       "Xfinity Center                                          622\n",
       "Harry A. Gampel Pavilion                                601\n",
       "Pete Maravich Assembly Center                           515\n",
       "Colonial Life Arena                                     496\n",
       "McKale Center                                           441\n",
       "Roscoe Maples Pavilion                                  393\n",
       "Purcell Pavilion at the Joyce Center                    383\n",
       "Carver-Hawkeye Arena                                    309\n",
       "Crisler Center                                          309\n",
       "Spokane Veterans Memorial Arena                         294\n",
       "Moody Coliseum                                          273\n",
       "Thompson-Boling Arena                                   272\n",
       "KFC Yum! Center                                         262\n",
       "Reynolds Coliseum                                       250\n",
       "T-Mobile Center                                         220\n",
       "Jon M. Huntsman Center                                  197\n",
       "Greensboro Coliseum                                     186\n",
       "Lloyd Noble Center                                      179\n",
       "Ferrell Center                                          169\n",
       "Pauley Pavilion                                         148\n",
       "Cameron Indoor Stadium                                  129\n",
       "Frank C. Erwin, Jr. Special Events Center               106\n",
       "Webster Bank Arena                                       89\n",
       "Value City Arena at The Jerome Schottenstein Center       7\n",
       "Name: count, dtype: int64"
      ]
     },
     "execution_count": 46,
     "metadata": {},
     "output_type": "execute_result"
    }
   ],
   "source": [
    "df.FacilityName.value_counts()"
   ]
  },
  {
   "cell_type": "code",
   "execution_count": 45,
   "metadata": {},
   "outputs": [
    {
     "data": {
      "text/plain": [
       "HostingInstitution\n",
       "Seattle University                                     2365\n",
       "Southern Conference                                    2016\n",
       "Big 12 Conference                                      1956\n",
       "University of Minnesota, Twin Cities                   1813\n",
       "Indiana University, Bloomington                        1015\n",
       "Louisiana State University                              891\n",
       "Iowa State University                                   769\n",
       "University of Connecticut                               690\n",
       "University of Maryland, College Park                    622\n",
       "University of South Carolina, Columbia                  496\n",
       "University of Tennessee, Knoxville                      455\n",
       "University of Arizona                                   441\n",
       "Stanford University                                     393\n",
       "Villanova University                                    387\n",
       "University of Notre Dame                                383\n",
       "University of Texas at Austin                           379\n",
       "University of Michigan                                  309\n",
       "University of Iowa                                      309\n",
       "University of Idaho                                     294\n",
       "University of Louisville                                262\n",
       "North Carolina State University                         250\n",
       "Virginia Polytechnic Institute and State University     225\n",
       "Wichita State University                                220\n",
       "University of Utah                                      197\n",
       "Atlantic Coast Conference                               186\n",
       "University of Oklahoma                                  179\n",
       "Baylor University                                       169\n",
       "University of California, Los Angeles                   148\n",
       "Duke University                                         129\n",
       "The Ohio State University                                 7\n",
       "Name: count, dtype: int64"
      ]
     },
     "execution_count": 45,
     "metadata": {},
     "output_type": "execute_result"
    }
   ],
   "source": [
    "df.HostingInstitution.value_counts()"
   ]
  },
  {
   "cell_type": "code",
   "execution_count": 51,
   "metadata": {},
   "outputs": [
    {
     "data": {
      "text/plain": [
       "EventEndDate\n",
       "3/20/23    4418\n",
       "3/27/23    2395\n",
       "3/21/22    2187\n",
       "3/20/22    1957\n",
       "4/2/23     1002\n",
       "3/31/23     954\n",
       "4/3/22      910\n",
       "4/1/22      903\n",
       "3/25/23     716\n",
       "3/24/23     649\n",
       "3/26/23     621\n",
       "3/27/22     583\n",
       "3/18/22     316\n",
       "3/19/23     132\n",
       "3/25/22     117\n",
       "3/28/22      51\n",
       "3/26/22      38\n",
       "3/18/23       4\n",
       "3/16/23       2\n",
       "Name: count, dtype: int64"
      ]
     },
     "execution_count": 51,
     "metadata": {},
     "output_type": "execute_result"
    }
   ],
   "source": [
    "df.EventEndDate.value_counts()"
   ]
  },
  {
   "cell_type": "code",
   "execution_count": 44,
   "metadata": {},
   "outputs": [
    {
     "data": {
      "text/plain": [
       "EventBeginDate\n",
       "3/17/23    3746\n",
       "3/18/22    3167\n",
       "3/24/23    2053\n",
       "3/19/22    1210\n",
       "4/2/23     1002\n",
       "3/27/23     991\n",
       "3/31/23     954\n",
       "4/3/22      910\n",
       "4/1/22      903\n",
       "3/18/23     807\n",
       "3/25/23     716\n",
       "3/26/23     621\n",
       "3/24/22     514\n",
       "3/25/22     117\n",
       "3/20/22      83\n",
       "3/27/22      69\n",
       "3/28/22      51\n",
       "3/26/22      38\n",
       "3/16/23       2\n",
       "3/20/23       1\n",
       "Name: count, dtype: int64"
      ]
     },
     "execution_count": 44,
     "metadata": {},
     "output_type": "execute_result"
    }
   ],
   "source": [
    "df.EventBeginDate.value_counts()"
   ]
  },
  {
   "cell_type": "code",
   "execution_count": 43,
   "metadata": {},
   "outputs": [
    {
     "data": {
      "text/plain": [
       "EventSession\n",
       "All-Session    9420\n",
       "Session 2      3473\n",
       "Session 1      3060\n",
       "Session 3      1011\n",
       "Session 4       991\n",
       "Name: count, dtype: int64"
      ]
     },
     "execution_count": 43,
     "metadata": {},
     "output_type": "execute_result"
    }
   ],
   "source": [
    "df.EventSession.value_counts()"
   ]
  },
  {
   "cell_type": "code",
   "execution_count": 42,
   "metadata": {},
   "outputs": [
    {
     "data": {
      "text/plain": [
       "IsEventFinalSite\n",
       "No     14186\n",
       "Yes     3769\n",
       "Name: count, dtype: int64"
      ]
     },
     "execution_count": 42,
     "metadata": {},
     "output_type": "execute_result"
    }
   ],
   "source": [
    "df.IsEventFinalSite.value_counts()"
   ]
  },
  {
   "cell_type": "code",
   "execution_count": 41,
   "metadata": {},
   "outputs": [
    {
     "data": {
      "text/plain": [
       "EventRoundName\n",
       "First and Second Rounds    9014\n",
       "Regionals                  5170\n",
       "Finals                     3769\n",
       "First Round                   2\n",
       "Name: count, dtype: int64"
      ]
     },
     "execution_count": 41,
     "metadata": {},
     "output_type": "execute_result"
    }
   ],
   "source": [
    "df.EventRoundName.value_counts()"
   ]
  },
  {
   "cell_type": "code",
   "execution_count": 40,
   "metadata": {},
   "outputs": [
    {
     "data": {
      "text/plain": [
       "CustomerLastWBBPurchaseDate\n",
       "10/28/13    126974\n",
       "3/19/22       2385\n",
       "3/18/22       1874\n",
       "4/1/18        1706\n",
       "4/2/17        1591\n",
       "             ...  \n",
       "1/30/23          1\n",
       "9/14/22          1\n",
       "12/31/22         1\n",
       "1/31/23          1\n",
       "12/18/22         1\n",
       "Name: count, Length: 1309, dtype: int64"
      ]
     },
     "execution_count": 40,
     "metadata": {},
     "output_type": "execute_result"
    }
   ],
   "source": [
    "df.CustomerLastWBBPurchaseDate.value_counts()"
   ]
  },
  {
   "cell_type": "code",
   "execution_count": 39,
   "metadata": {},
   "outputs": [
    {
     "data": {
      "text/plain": [
       "CustomerLastWBBActionDate\n",
       "10/28/13    126694\n",
       "3/19/22       6588\n",
       "3/18/22       4500\n",
       "12/2/20       2409\n",
       "4/1/18        1757\n",
       "             ...  \n",
       "3/23/13          1\n",
       "12/12/21         1\n",
       "1/19/23          1\n",
       "4/11/22          1\n",
       "6/26/22          1\n",
       "Name: count, Length: 1963, dtype: int64"
      ]
     },
     "execution_count": 39,
     "metadata": {},
     "output_type": "execute_result"
    }
   ],
   "source": [
    "df.CustomerLastWBBActionDate.value_counts()"
   ]
  },
  {
   "cell_type": "code",
   "execution_count": 36,
   "metadata": {},
   "outputs": [
    {
     "data": {
      "text/plain": [
       "CustomerFirstWBBPurchaseDate\n",
       "10/28/13    130134\n",
       "3/19/22       2204\n",
       "3/18/16       1665\n",
       "3/20/15       1621\n",
       "4/1/18        1582\n",
       "             ...  \n",
       "2/11/23          1\n",
       "12/16/21         1\n",
       "1/27/23          1\n",
       "4/5/22           1\n",
       "12/18/22         1\n",
       "Name: count, Length: 1394, dtype: int64"
      ]
     },
     "execution_count": 36,
     "metadata": {},
     "output_type": "execute_result"
    }
   ],
   "source": [
    "df.CustomerFirstWBBPurchaseDate.value_counts()"
   ]
  },
  {
   "cell_type": "code",
   "execution_count": 35,
   "metadata": {},
   "outputs": [
    {
     "data": {
      "text/plain": [
       "CustomerFirstWBBActionDate\n",
       "10/28/13    129994\n",
       "3/19/22       6402\n",
       "3/18/22       4033\n",
       "3/18/16       1632\n",
       "4/1/18        1632\n",
       "             ...  \n",
       "4/14/22          1\n",
       "5/14/22          1\n",
       "4/16/22          1\n",
       "10/16/22         1\n",
       "11/30/22         1\n",
       "Name: count, Length: 2530, dtype: int64"
      ]
     },
     "execution_count": 35,
     "metadata": {},
     "output_type": "execute_result"
    }
   ],
   "source": [
    "df.CustomerFirstWBBActionDate.value_counts()"
   ]
  },
  {
   "cell_type": "code",
   "execution_count": 34,
   "metadata": {},
   "outputs": [
    {
     "data": {
      "text/plain": [
       "HasCustomerClickedOrOpenedEmailsSixMonthsPrior\n",
       "(N/A)    116138\n",
       "Yes       56570\n",
       "No        36558\n",
       "Name: count, dtype: int64"
      ]
     },
     "execution_count": 34,
     "metadata": {},
     "output_type": "execute_result"
    }
   ],
   "source": [
    "df.HasCustomerClickedOrOpenedEmailsSixMonthsPrior.value_counts()"
   ]
  },
  {
   "cell_type": "code",
   "execution_count": 33,
   "metadata": {},
   "outputs": [
    {
     "data": {
      "text/plain": [
       "IsCustomerInNCAAMembership\n",
       "No       207871\n",
       "Yes        1393\n",
       "(UNK)         2\n",
       "Name: count, dtype: int64"
      ]
     },
     "execution_count": 33,
     "metadata": {},
     "output_type": "execute_result"
    }
   ],
   "source": [
    "df.IsCustomerInNCAAMembership.value_counts()"
   ]
  },
  {
   "cell_type": "code",
   "execution_count": 32,
   "metadata": {},
   "outputs": [
    {
     "data": {
      "text/plain": [
       "CustomerInstitutionAffinity\n",
       "(UNK)                                                  208697\n",
       "University of South Carolina, Columbia                     37\n",
       "University of Connecticut                                  30\n",
       "University of Texas at Austin                              24\n",
       "University of Nebraska-Lincoln                             23\n",
       "University of Oklahoma                                     22\n",
       "Louisiana State University                                 21\n",
       "University of Notre Dame                                   17\n",
       "Indiana University, Bloomington                            14\n",
       "University of Michigan                                     13\n",
       "University of California, Berkeley                         12\n",
       "University of Florida                                      12\n",
       "University of Iowa                                         10\n",
       "University of California, Los Angeles                      10\n",
       "University of Kansas                                        9\n",
       "University of Wisconsin-Madison                             8\n",
       "University of Maryland, College Park                        8\n",
       "University of Washington                                    7\n",
       "Iowa State University                                       7\n",
       "University of Louisville                                    7\n",
       "University of Tennessee, Knoxville                          7\n",
       "University of Kentucky                                      7\n",
       "University of Arizona                                       7\n",
       "Texas A&M University, College Station                       7\n",
       "Washington State University                                 7\n",
       "Auburn University                                           7\n",
       "Arizona State University                                    6\n",
       "University of the Incarnate Word                            6\n",
       "University of Utah                                          6\n",
       "University of North Carolina, Chapel Hill                   6\n",
       "North Carolina State University                             6\n",
       "The Ohio State University                                   6\n",
       "Oklahoma State University                                   6\n",
       "University of Minnesota, Twin Cities                        5\n",
       "University of Colorado, Boulder                             5\n",
       "Boston College                                              5\n",
       "Texas Tech University                                       5\n",
       "University of Miami (Florida)                               4\n",
       "University of Arkansas, Fayetteville                        4\n",
       "South Dakota State University                               4\n",
       "Illinois State University                                   4\n",
       "University of Houston                                       4\n",
       "University of Virginia                                      4\n",
       "University of Montana                                       4\n",
       "Duke University                                             4\n",
       "West Virginia University                                    4\n",
       "Stanford University                                         4\n",
       "University of Oregon                                        4\n",
       "Baylor University                                           4\n",
       "University of Alabama                                       4\n",
       "University of Illinois Urbana-Champaign                     4\n",
       "Texas Woman's University                                    3\n",
       "San Diego State University                                  3\n",
       "Ohio University                                             3\n",
       "Gallaudet University                                        3\n",
       "Gonzaga University                                          3\n",
       "Syracuse University                                         3\n",
       "Boston University                                           3\n",
       "Old Dominion University                                     3\n",
       "University at Albany                                        2\n",
       "Colorado State University                                   2\n",
       "University of Vermont                                       2\n",
       "California State University, Fresno                         2\n",
       "Notre Dame of Maryland University                           2\n",
       "Northwest Missouri State University                         2\n",
       "University of Mississippi                                   2\n",
       "Virginia Polytechnic Institute and State University         2\n",
       "Pennsylvania State University                               2\n",
       "Georgia Institute of Technology                             2\n",
       "University of North Dakota                                  2\n",
       "Tulane University                                           2\n",
       "Drake University                                            2\n",
       "Wesleyan University (Connecticut)                           2\n",
       "Colorado College                                            2\n",
       "University of California, Davis                             2\n",
       "Montana State University-Bozeman                            2\n",
       "Lubbock Christian University                                2\n",
       "Santa Clara University                                      2\n",
       "Pace University                                             2\n",
       "Purdue University                                           2\n",
       "University of Pittsburgh                                    2\n",
       "Wichita State University                                    2\n",
       "University of South Carolina Upstate                        2\n",
       "New Jersey Institute of Technology                          2\n",
       "Texas Southern University                                   2\n",
       "Vanderbilt University                                       2\n",
       "Creighton University                                        2\n",
       "California Polytechnic State University                     2\n",
       "Texas Christian University                                  2\n",
       "University of South Dakota                                  2\n",
       "New Mexico State University                                 2\n",
       "Washington and Jefferson College                            2\n",
       "University of Central Florida                               2\n",
       "Metropolitan State University of Denver                     2\n",
       "Pennsylvania Western University, Clarion                    2\n",
       "University of Nebraska, Lincoln                             2\n",
       "Bradley University                                          2\n",
       "Brooklyn College                                            2\n",
       "University of North Texas                                   1\n",
       "University of Northwestern-St. Paul                         1\n",
       "South Carolina State University                             1\n",
       "Texas A&M International University                          1\n",
       "Angelo State University                                     1\n",
       "Mississippi State University                                1\n",
       "Delta State University                                      1\n",
       "Portland State University                                   1\n",
       "Michigan State University                                   1\n",
       "Rollins College                                             1\n",
       "Princeton University                                        1\n",
       "Tarleton State University                                   1\n",
       "University of Missouri, Columbia                            1\n",
       "Appalachian State University                                1\n",
       "Kentucky State University                                   1\n",
       "Northwestern University                                     1\n",
       "Name: count, dtype: int64"
      ]
     },
     "execution_count": 32,
     "metadata": {},
     "output_type": "execute_result"
    }
   ],
   "source": [
    "df.CustomerInstitutionAffinity.value_counts()"
   ]
  },
  {
   "cell_type": "code",
   "execution_count": 8,
   "metadata": {},
   "outputs": [
    {
     "data": {
      "text/plain": [
       "ChampionshipYear\n",
       "2023    110673\n",
       "2022     98593\n",
       "Name: count, dtype: int64"
      ]
     },
     "execution_count": 8,
     "metadata": {},
     "output_type": "execute_result"
    }
   ],
   "source": [
    "df.ChampionshipYear.value_counts()"
   ]
  },
  {
   "cell_type": "code",
   "execution_count": 9,
   "metadata": {},
   "outputs": [
    {
     "data": {
      "text/plain": [
       "<bound method IndexOpsMixin.value_counts of 0         757758\n",
       "1         574752\n",
       "2         741837\n",
       "3         237618\n",
       "4         799761\n",
       "           ...  \n",
       "209261    867155\n",
       "209262    662341\n",
       "209263     38418\n",
       "209264     74611\n",
       "209265    318964\n",
       "Name: CustomerID, Length: 209266, dtype: int64>"
      ]
     },
     "execution_count": 9,
     "metadata": {},
     "output_type": "execute_result"
    }
   ],
   "source": [
    "df.CustomerID.value_counts()"
   ]
  },
  {
   "cell_type": "code",
   "execution_count": 19,
   "metadata": {},
   "outputs": [
    {
     "data": {
      "text/plain": [
       "CustomerState\n",
       "UNK                135477\n",
       "TX                   7954\n",
       "IN                   4783\n",
       "IA                   3987\n",
       "WA                   3858\n",
       "CA                   3619\n",
       "SC                   3587\n",
       "KY                   3240\n",
       "NC                   2672\n",
       "CT                   2468\n",
       "OH                   2408\n",
       "OR                   2296\n",
       "MD                   2254\n",
       "LA                   2061\n",
       "FL                   2021\n",
       "NY                   1920\n",
       "MN                   1807\n",
       "MI                   1710\n",
       "TN                   1706\n",
       "IL                   1591\n",
       "AZ                   1547\n",
       "MS                   1523\n",
       "VA                   1378\n",
       "PA                   1342\n",
       "NE                   1286\n",
       "GA                   1150\n",
       "KS                   1063\n",
       "OK                    958\n",
       "CO                    857\n",
       "MA                    786\n",
       "NJ                    685\n",
       "MO                    601\n",
       "WI                    513\n",
       "UT                    470\n",
       "SD                    328\n",
       "AL                    284\n",
       "AR                    205\n",
       "ID                    193\n",
       "MT                    172\n",
       "NM                    160\n",
       "ND                    153\n",
       "NH                    150\n",
       "DE                    149\n",
       "NV                    140\n",
       "DC                    132\n",
       "WV                    129\n",
       "RI                    121\n",
       "VT                    105\n",
       "ME                     96\n",
       "ON                     88\n",
       "AK                     78\n",
       "WY                     67\n",
       "HI                     60\n",
       "BC                     57\n",
       "SouthCarolina          34\n",
       "NewJersey              22\n",
       "NewYork                22\n",
       "AB                     17\n",
       "NorthCarolina          14\n",
       "In                      8\n",
       "QC                      7\n",
       "Manitoba                6\n",
       "britishcolumbia         5\n",
       "NorthDakota             5\n",
       "MB                      4\n",
       "Hyattsville             4\n",
       "BritishColumbia         4\n",
       "MARYL                   4\n",
       "PR                      4\n",
       "Alberta                 4\n",
       "Sc                      3\n",
       "VI                      3\n",
       "wlkp                    2\n",
       "tn                      2\n",
       "ZuidHolland             2\n",
       "Md                      2\n",
       "Ca                      2\n",
       "Ny                      2\n",
       "Pensylvania             2\n",
       "Other                   2\n",
       "Ste                     2\n",
       "SouthDakota             2\n",
       "TOKYO                   2\n",
       "alberta                 2\n",
       "me                      2\n",
       "(UNK)                   2\n",
       "JAL                     2\n",
       "Oh                      2\n",
       "AE                      2\n",
       "14                      2\n",
       "A                       2\n",
       "N                       2\n",
       "VIC                     2\n",
       "NewHampshire            2\n",
       "Kennington              2\n",
       "Istanbul                2\n",
       "N5P4J9                  2\n",
       "19th                    2\n",
       "NORTH                   1\n",
       "Name: count, dtype: int64"
      ]
     },
     "execution_count": 19,
     "metadata": {},
     "output_type": "execute_result"
    }
   ],
   "source": [
    "df.CustomerState.value_counts()"
   ]
  },
  {
   "cell_type": "code",
   "execution_count": 20,
   "metadata": {},
   "outputs": [],
   "source": [
    "counts = df['CustomerState'].value_counts()\n",
    "filtered_states = counts[counts > 1000].index\n",
    "\n",
    "filtered_df = df[df['CustomerState'].isin(filtered_states)]\n"
   ]
  },
  {
   "cell_type": "code",
   "execution_count": 21,
   "metadata": {},
   "outputs": [
    {
     "data": {
      "text/plain": [
       "CustomerState\n",
       "UNK    135477\n",
       "TX       7954\n",
       "IN       4783\n",
       "IA       3987\n",
       "WA       3858\n",
       "CA       3619\n",
       "SC       3587\n",
       "KY       3240\n",
       "NC       2672\n",
       "CT       2468\n",
       "OH       2408\n",
       "OR       2296\n",
       "MD       2254\n",
       "LA       2061\n",
       "FL       2021\n",
       "NY       1920\n",
       "MN       1807\n",
       "MI       1710\n",
       "TN       1706\n",
       "IL       1591\n",
       "AZ       1547\n",
       "MS       1523\n",
       "VA       1378\n",
       "PA       1342\n",
       "NE       1286\n",
       "GA       1150\n",
       "KS       1063\n",
       "Name: count, dtype: int64"
      ]
     },
     "execution_count": 21,
     "metadata": {},
     "output_type": "execute_result"
    }
   ],
   "source": [
    "filtered_df.CustomerState.value_counts()"
   ]
  },
  {
   "cell_type": "code",
   "execution_count": 22,
   "metadata": {},
   "outputs": [
    {
     "data": {
      "text/plain": [
       "CustomerZipCode\n",
       "(UNK)    135224\n",
       "47401       372\n",
       "39759       320\n",
       "52245       252\n",
       "52246       250\n",
       "          ...  \n",
       "75972         1\n",
       "49504         1\n",
       "74604         1\n",
       "55932         1\n",
       "77133         1\n",
       "Name: count, Length: 10087, dtype: int64"
      ]
     },
     "execution_count": 22,
     "metadata": {},
     "output_type": "execute_result"
    }
   ],
   "source": [
    "df.CustomerZipCode.value_counts()"
   ]
  },
  {
   "cell_type": "code",
   "execution_count": 23,
   "metadata": {},
   "outputs": [
    {
     "data": {
      "text/plain": [
       "CustomerInstitutionAffinity\n",
       "(UNK)                                                  208697\n",
       "University of South Carolina, Columbia                     37\n",
       "University of Connecticut                                  30\n",
       "University of Texas at Austin                              24\n",
       "University of Nebraska-Lincoln                             23\n",
       "University of Oklahoma                                     22\n",
       "Louisiana State University                                 21\n",
       "University of Notre Dame                                   17\n",
       "Indiana University, Bloomington                            14\n",
       "University of Michigan                                     13\n",
       "University of California, Berkeley                         12\n",
       "University of Florida                                      12\n",
       "University of Iowa                                         10\n",
       "University of California, Los Angeles                      10\n",
       "University of Kansas                                        9\n",
       "University of Wisconsin-Madison                             8\n",
       "University of Maryland, College Park                        8\n",
       "University of Washington                                    7\n",
       "Iowa State University                                       7\n",
       "University of Louisville                                    7\n",
       "University of Tennessee, Knoxville                          7\n",
       "University of Kentucky                                      7\n",
       "University of Arizona                                       7\n",
       "Texas A&M University, College Station                       7\n",
       "Washington State University                                 7\n",
       "Auburn University                                           7\n",
       "Arizona State University                                    6\n",
       "University of the Incarnate Word                            6\n",
       "University of Utah                                          6\n",
       "University of North Carolina, Chapel Hill                   6\n",
       "North Carolina State University                             6\n",
       "The Ohio State University                                   6\n",
       "Oklahoma State University                                   6\n",
       "University of Minnesota, Twin Cities                        5\n",
       "University of Colorado, Boulder                             5\n",
       "Boston College                                              5\n",
       "Texas Tech University                                       5\n",
       "University of Miami (Florida)                               4\n",
       "University of Arkansas, Fayetteville                        4\n",
       "South Dakota State University                               4\n",
       "Illinois State University                                   4\n",
       "University of Houston                                       4\n",
       "University of Virginia                                      4\n",
       "University of Montana                                       4\n",
       "Duke University                                             4\n",
       "West Virginia University                                    4\n",
       "Stanford University                                         4\n",
       "University of Oregon                                        4\n",
       "Baylor University                                           4\n",
       "University of Alabama                                       4\n",
       "University of Illinois Urbana-Champaign                     4\n",
       "Texas Woman's University                                    3\n",
       "San Diego State University                                  3\n",
       "Ohio University                                             3\n",
       "Gallaudet University                                        3\n",
       "Gonzaga University                                          3\n",
       "Syracuse University                                         3\n",
       "Boston University                                           3\n",
       "Old Dominion University                                     3\n",
       "University at Albany                                        2\n",
       "Colorado State University                                   2\n",
       "University of Vermont                                       2\n",
       "California State University, Fresno                         2\n",
       "Notre Dame of Maryland University                           2\n",
       "Northwest Missouri State University                         2\n",
       "University of Mississippi                                   2\n",
       "Virginia Polytechnic Institute and State University         2\n",
       "Pennsylvania State University                               2\n",
       "Georgia Institute of Technology                             2\n",
       "University of North Dakota                                  2\n",
       "Tulane University                                           2\n",
       "Drake University                                            2\n",
       "Wesleyan University (Connecticut)                           2\n",
       "Colorado College                                            2\n",
       "University of California, Davis                             2\n",
       "Montana State University-Bozeman                            2\n",
       "Lubbock Christian University                                2\n",
       "Santa Clara University                                      2\n",
       "Pace University                                             2\n",
       "Purdue University                                           2\n",
       "University of Pittsburgh                                    2\n",
       "Wichita State University                                    2\n",
       "University of South Carolina Upstate                        2\n",
       "New Jersey Institute of Technology                          2\n",
       "Texas Southern University                                   2\n",
       "Vanderbilt University                                       2\n",
       "Creighton University                                        2\n",
       "California Polytechnic State University                     2\n",
       "Texas Christian University                                  2\n",
       "University of South Dakota                                  2\n",
       "New Mexico State University                                 2\n",
       "Washington and Jefferson College                            2\n",
       "University of Central Florida                               2\n",
       "Metropolitan State University of Denver                     2\n",
       "Pennsylvania Western University, Clarion                    2\n",
       "University of Nebraska, Lincoln                             2\n",
       "Bradley University                                          2\n",
       "Brooklyn College                                            2\n",
       "University of North Texas                                   1\n",
       "University of Northwestern-St. Paul                         1\n",
       "South Carolina State University                             1\n",
       "Texas A&M International University                          1\n",
       "Angelo State University                                     1\n",
       "Mississippi State University                                1\n",
       "Delta State University                                      1\n",
       "Portland State University                                   1\n",
       "Michigan State University                                   1\n",
       "Rollins College                                             1\n",
       "Princeton University                                        1\n",
       "Tarleton State University                                   1\n",
       "University of Missouri, Columbia                            1\n",
       "Appalachian State University                                1\n",
       "Kentucky State University                                   1\n",
       "Northwestern University                                     1\n",
       "Name: count, dtype: int64"
      ]
     },
     "execution_count": 23,
     "metadata": {},
     "output_type": "execute_result"
    }
   ],
   "source": [
    "df.CustomerInstitutionAffinity.value_counts()"
   ]
  },
  {
   "cell_type": "code",
   "execution_count": 24,
   "metadata": {},
   "outputs": [
    {
     "data": {
      "text/plain": [
       "ActivityType\n",
       "No Activity                 191311\n",
       "Primary Purchase             13026\n",
       "Transfer Recipient            3283\n",
       "Secondary Purchase             879\n",
       "Multiple Activities            659\n",
       "Other Secondary Activity       108\n",
       "Name: count, dtype: int64"
      ]
     },
     "execution_count": 24,
     "metadata": {},
     "output_type": "execute_result"
    }
   ],
   "source": [
    "df.ActivityType.value_counts()"
   ]
  },
  {
   "cell_type": "code",
   "execution_count": null,
   "metadata": {},
   "outputs": [],
   "source": [
    "new_df = df.copy()\n",
    "new_df.drop([\"RecordID\", \"CustomerID\", \"CustomerState\", \"CustomerZipCode\"])"
   ]
  },
  {
   "cell_type": "code",
   "execution_count": 27,
   "metadata": {},
   "outputs": [
    {
     "name": "stdout",
     "output_type": "stream",
     "text": [
      "Defaulting to user installation because normal site-packages is not writeable\n",
      "Requirement already satisfied: xgboost in /Users/tringuyen1803/Library/Python/3.9/lib/python/site-packages (2.0.3)\n",
      "Requirement already satisfied: numpy in /Users/tringuyen1803/Library/Python/3.9/lib/python/site-packages (from xgboost) (1.26.3)\n",
      "Requirement already satisfied: scipy in /Users/tringuyen1803/Library/Python/3.9/lib/python/site-packages (from xgboost) (1.11.4)\n",
      "\n",
      "\u001b[1m[\u001b[0m\u001b[34;49mnotice\u001b[0m\u001b[1;39;49m]\u001b[0m\u001b[39;49m A new release of pip is available: \u001b[0m\u001b[31;49m23.3.2\u001b[0m\u001b[39;49m -> \u001b[0m\u001b[32;49m24.0\u001b[0m\n",
      "\u001b[1m[\u001b[0m\u001b[34;49mnotice\u001b[0m\u001b[1;39;49m]\u001b[0m\u001b[39;49m To update, run: \u001b[0m\u001b[32;49m/Library/Developer/CommandLineTools/usr/bin/python3 -m pip install --upgrade pip\u001b[0m\n",
      "Defaulting to user installation because normal site-packages is not writeable\n",
      "Collecting scikit-learn\n",
      "  Downloading scikit_learn-1.4.0-1-cp39-cp39-macosx_12_0_arm64.whl.metadata (11 kB)\n",
      "Requirement already satisfied: numpy<2.0,>=1.19.5 in /Users/tringuyen1803/Library/Python/3.9/lib/python/site-packages (from scikit-learn) (1.26.3)\n",
      "Requirement already satisfied: scipy>=1.6.0 in /Users/tringuyen1803/Library/Python/3.9/lib/python/site-packages (from scikit-learn) (1.11.4)\n",
      "Collecting joblib>=1.2.0 (from scikit-learn)\n",
      "  Downloading joblib-1.3.2-py3-none-any.whl.metadata (5.4 kB)\n",
      "Collecting threadpoolctl>=2.0.0 (from scikit-learn)\n",
      "  Downloading threadpoolctl-3.2.0-py3-none-any.whl.metadata (10.0 kB)\n",
      "Downloading scikit_learn-1.4.0-1-cp39-cp39-macosx_12_0_arm64.whl (10.7 MB)\n",
      "\u001b[2K   \u001b[90m━━━━━━━━━━━━━━━━━━━━━━━━━━━━━━━━━━━━━━━━\u001b[0m \u001b[32m10.7/10.7 MB\u001b[0m \u001b[31m39.2 MB/s\u001b[0m eta \u001b[36m0:00:00\u001b[0m00:01\u001b[0m0:01\u001b[0m\n",
      "\u001b[?25hDownloading joblib-1.3.2-py3-none-any.whl (302 kB)\n",
      "\u001b[2K   \u001b[90m━━━━━━━━━━━━━━━━━━━━━━━━━━━━━━━━━━━━━━━━\u001b[0m \u001b[32m302.2/302.2 kB\u001b[0m \u001b[31m22.8 MB/s\u001b[0m eta \u001b[36m0:00:00\u001b[0m\n",
      "\u001b[?25hDownloading threadpoolctl-3.2.0-py3-none-any.whl (15 kB)\n",
      "Installing collected packages: threadpoolctl, joblib, scikit-learn\n",
      "Successfully installed joblib-1.3.2 scikit-learn-1.4.0 threadpoolctl-3.2.0\n",
      "\n",
      "\u001b[1m[\u001b[0m\u001b[34;49mnotice\u001b[0m\u001b[1;39;49m]\u001b[0m\u001b[39;49m A new release of pip is available: \u001b[0m\u001b[31;49m23.3.2\u001b[0m\u001b[39;49m -> \u001b[0m\u001b[32;49m24.0\u001b[0m\n",
      "\u001b[1m[\u001b[0m\u001b[34;49mnotice\u001b[0m\u001b[1;39;49m]\u001b[0m\u001b[39;49m To update, run: \u001b[0m\u001b[32;49m/Library/Developer/CommandLineTools/usr/bin/python3 -m pip install --upgrade pip\u001b[0m\n"
     ]
    }
   ],
   "source": [
    "!pip install xgboost\n",
    "!pip install scikit-learn"
   ]
  },
  {
   "cell_type": "code",
   "execution_count": 28,
   "metadata": {},
   "outputs": [],
   "source": [
    "\n",
    "from sklearn.model_selection import train_test_split\n",
    "from sklearn.metrics import accuracy_score\n",
    "import xgboost as xgb"
   ]
  },
  {
   "cell_type": "code",
   "execution_count": 29,
   "metadata": {},
   "outputs": [],
   "source": [
    "X = df.drop('ActivityType', axis=1)  # Features\n",
    "y = df['ActivityType']  # Target variable\n",
    "\n",
    "X_train, X_test, y_train, y_test = train_test_split(X, y, test_size=0.2, random_state=42)"
   ]
  },
  {
   "cell_type": "code",
   "execution_count": 30,
   "metadata": {},
   "outputs": [
    {
     "ename": "ValueError",
     "evalue": "Invalid classes inferred from unique values of `y`.  Expected: [0 1 2 3 4 5], got ['Multiple Activities' 'No Activity' 'Other Secondary Activity'\n 'Primary Purchase' 'Secondary Purchase' 'Transfer Recipient']",
     "output_type": "error",
     "traceback": [
      "\u001b[0;31m---------------------------------------------------------------------------\u001b[0m",
      "\u001b[0;31mValueError\u001b[0m                                Traceback (most recent call last)",
      "Cell \u001b[0;32mIn[30], line 2\u001b[0m\n\u001b[1;32m      1\u001b[0m model \u001b[38;5;241m=\u001b[39m xgb\u001b[38;5;241m.\u001b[39mXGBClassifier()\n\u001b[0;32m----> 2\u001b[0m \u001b[43mmodel\u001b[49m\u001b[38;5;241;43m.\u001b[39;49m\u001b[43mfit\u001b[49m\u001b[43m(\u001b[49m\u001b[43mX_train\u001b[49m\u001b[43m,\u001b[49m\u001b[43m \u001b[49m\u001b[43my_train\u001b[49m\u001b[43m)\u001b[49m\n",
      "File \u001b[0;32m~/Library/Python/3.9/lib/python/site-packages/xgboost/core.py:730\u001b[0m, in \u001b[0;36mrequire_keyword_args.<locals>.throw_if.<locals>.inner_f\u001b[0;34m(*args, **kwargs)\u001b[0m\n\u001b[1;32m    728\u001b[0m \u001b[38;5;28;01mfor\u001b[39;00m k, arg \u001b[38;5;129;01min\u001b[39;00m \u001b[38;5;28mzip\u001b[39m(sig\u001b[38;5;241m.\u001b[39mparameters, args):\n\u001b[1;32m    729\u001b[0m     kwargs[k] \u001b[38;5;241m=\u001b[39m arg\n\u001b[0;32m--> 730\u001b[0m \u001b[38;5;28;01mreturn\u001b[39;00m \u001b[43mfunc\u001b[49m\u001b[43m(\u001b[49m\u001b[38;5;241;43m*\u001b[39;49m\u001b[38;5;241;43m*\u001b[39;49m\u001b[43mkwargs\u001b[49m\u001b[43m)\u001b[49m\n",
      "File \u001b[0;32m~/Library/Python/3.9/lib/python/site-packages/xgboost/sklearn.py:1471\u001b[0m, in \u001b[0;36mXGBClassifier.fit\u001b[0;34m(self, X, y, sample_weight, base_margin, eval_set, eval_metric, early_stopping_rounds, verbose, xgb_model, sample_weight_eval_set, base_margin_eval_set, feature_weights, callbacks)\u001b[0m\n\u001b[1;32m   1466\u001b[0m     expected_classes \u001b[38;5;241m=\u001b[39m \u001b[38;5;28mself\u001b[39m\u001b[38;5;241m.\u001b[39mclasses_\n\u001b[1;32m   1467\u001b[0m \u001b[38;5;28;01mif\u001b[39;00m (\n\u001b[1;32m   1468\u001b[0m     classes\u001b[38;5;241m.\u001b[39mshape \u001b[38;5;241m!=\u001b[39m expected_classes\u001b[38;5;241m.\u001b[39mshape\n\u001b[1;32m   1469\u001b[0m     \u001b[38;5;129;01mor\u001b[39;00m \u001b[38;5;129;01mnot\u001b[39;00m (classes \u001b[38;5;241m==\u001b[39m expected_classes)\u001b[38;5;241m.\u001b[39mall()\n\u001b[1;32m   1470\u001b[0m ):\n\u001b[0;32m-> 1471\u001b[0m     \u001b[38;5;28;01mraise\u001b[39;00m \u001b[38;5;167;01mValueError\u001b[39;00m(\n\u001b[1;32m   1472\u001b[0m         \u001b[38;5;124mf\u001b[39m\u001b[38;5;124m\"\u001b[39m\u001b[38;5;124mInvalid classes inferred from unique values of `y`.  \u001b[39m\u001b[38;5;124m\"\u001b[39m\n\u001b[1;32m   1473\u001b[0m         \u001b[38;5;124mf\u001b[39m\u001b[38;5;124m\"\u001b[39m\u001b[38;5;124mExpected: \u001b[39m\u001b[38;5;132;01m{\u001b[39;00mexpected_classes\u001b[38;5;132;01m}\u001b[39;00m\u001b[38;5;124m, got \u001b[39m\u001b[38;5;132;01m{\u001b[39;00mclasses\u001b[38;5;132;01m}\u001b[39;00m\u001b[38;5;124m\"\u001b[39m\n\u001b[1;32m   1474\u001b[0m     )\n\u001b[1;32m   1476\u001b[0m params \u001b[38;5;241m=\u001b[39m \u001b[38;5;28mself\u001b[39m\u001b[38;5;241m.\u001b[39mget_xgb_params()\n\u001b[1;32m   1478\u001b[0m \u001b[38;5;28;01mif\u001b[39;00m \u001b[38;5;28mcallable\u001b[39m(\u001b[38;5;28mself\u001b[39m\u001b[38;5;241m.\u001b[39mobjective):\n",
      "\u001b[0;31mValueError\u001b[0m: Invalid classes inferred from unique values of `y`.  Expected: [0 1 2 3 4 5], got ['Multiple Activities' 'No Activity' 'Other Secondary Activity'\n 'Primary Purchase' 'Secondary Purchase' 'Transfer Recipient']"
     ]
    }
   ],
   "source": [
    "model = xgb.XGBClassifier()\n",
    "model.fit(X_train, y_train)\n"
   ]
  },
  {
   "cell_type": "code",
   "execution_count": null,
   "metadata": {},
   "outputs": [],
   "source": [
    "y_pred = model.predict(X_test)\n"
   ]
  }
 ],
 "metadata": {
  "kernelspec": {
   "display_name": "Python 3",
   "language": "python",
   "name": "python3"
  },
  "language_info": {
   "codemirror_mode": {
    "name": "ipython",
    "version": 3
   },
   "file_extension": ".py",
   "mimetype": "text/x-python",
   "name": "python",
   "nbconvert_exporter": "python",
   "pygments_lexer": "ipython3",
   "version": "3.9.6"
  }
 },
 "nbformat": 4,
 "nbformat_minor": 2
}
